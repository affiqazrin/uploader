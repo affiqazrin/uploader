{
 "cells": [
  {
   "cell_type": "markdown",
   "id": "6fb69639",
   "metadata": {},
   "source": [
    "# Daily AmMoneyline Monitoring"
   ]
  },
  {
   "cell_type": "code",
   "execution_count": 8,
   "id": "72e129cc",
   "metadata": {},
   "outputs": [],
   "source": [
    "import io\n",
    "import os\n",
    "import openpyxl\n",
    "import glob as glob\n",
    "import pandas as pd\n",
    "import zipfile as zf\n",
    "import ipywidgets as widgets\n",
    "\n",
    "from ipywidgets import interactive\n",
    "\n",
    "SRC=r'\\\\ambankgroup.ahb.com\\GFS\\DPM-Performance Management\\Historical Data\\Raw Data\\Retail Analytic\\AML'\n",
    "INFILE = r'\\INFILE'\n",
    "OUTFILE = r'\\OUTFILE'\n",
    "\n",
    "fy = \"FY 23/24\"\n"
   ]
  },
  {
   "cell_type": "code",
   "execution_count": 9,
   "id": "0981d99f",
   "metadata": {},
   "outputs": [],
   "source": [
    "file_pattern = \"MIS23110545_AML_Monitoring_Report_\"\n",
    "\n",
    "all_zips = glob.glob(os.path.join(SRC, f'{file_pattern}*.zip'))\n",
    "all_zips.sort()"
   ]
  },
  {
   "cell_type": "markdown",
   "id": "5a983593",
   "metadata": {},
   "source": [
    "## OPTION 1: Select file from list"
   ]
  },
  {
   "cell_type": "code",
   "execution_count": 10,
   "id": "ff121b9d",
   "metadata": {},
   "outputs": [
    {
     "data": {
      "application/vnd.jupyter.widget-view+json": {
       "model_id": "94ef7fd4f3e5420a9a32fc8bdac99e29",
       "version_major": 2,
       "version_minor": 0
      },
      "text/plain": [
       "interactive(children=(Dropdown(description='AML', options=('MIS23110545_AML_Monitoring_Report_20231115.zip', '…"
      ]
     },
     "metadata": {},
     "output_type": "display_data"
    }
   ],
   "source": [
    "#list all available target file, select from dropdown\n",
    "list_files=[]\n",
    "def update_dropdown(list_files):\n",
    "    display(f\"{list_files}\")\n",
    "\n",
    "for f in all_zips:\n",
    "    list_files.append(os.path.basename(f))\n",
    "\n",
    "file_select=widgets.Dropdown(options=list_files, description=os.path.basename(SRC))\n",
    "display(interactive(update_dropdown, list_files=file_select))\n",
    "#file_select.value"
   ]
  },
  {
   "cell_type": "code",
   "execution_count": 12,
   "id": "4805b7a0",
   "metadata": {},
   "outputs": [
    {
     "name": "stdout",
     "output_type": "stream",
     "text": [
      "\\\\ambankgroup.ahb.com\\GFS\\DPM-Performance Management\\Historical Data\\Raw Data\\Retail Analytic\\AML\\MIS23110545_AML_Monitoring_Report_20231218.zip\n",
      "MIS23110545_AML_Monitoring_Report_20231218.zip\n"
     ]
    }
   ],
   "source": [
    "zip_file=os.path.join(SRC, file_select.value)\n",
    "zip_file_name = os.path.basename(zip_file)\n",
    "\n",
    "print(zip_file)\n",
    "print(zip_file_name)"
   ]
  },
  {
   "cell_type": "markdown",
   "id": "e91eff09",
   "metadata": {},
   "source": [
    "## OPTION 2: Get latest file"
   ]
  },
  {
   "cell_type": "code",
   "execution_count": 13,
   "id": "311e6216",
   "metadata": {},
   "outputs": [
    {
     "name": "stdout",
     "output_type": "stream",
     "text": [
      "\\\\ambankgroup.ahb.com\\GFS\\DPM-Performance Management\\Historical Data\\Raw Data\\Retail Analytic\\AML\\MIS23110545_AML_Monitoring_Report_20231218.zip\n",
      "MIS23110545_AML_Monitoring_Report_20231218.zip\n"
     ]
    }
   ],
   "source": [
    "zip_file = all_zips[-1]\n",
    "zip_file_name = os.path.basename(zip_file)\n",
    "\n",
    "print(zip_file)\n",
    "print(zip_file_name)"
   ]
  },
  {
   "cell_type": "markdown",
   "id": "78b72fc2",
   "metadata": {},
   "source": [
    "## Unizp"
   ]
  },
  {
   "cell_type": "code",
   "execution_count": 14,
   "id": "80ac18d0",
   "metadata": {},
   "outputs": [
    {
     "name": "stdout",
     "output_type": "stream",
     "text": [
      "Extracting MIS23110545_AML_Monitoring_Report_20231218.xlsx\n",
      "Running \\INFILE\\MIS23110545_AML_Monitoring_Report_20231218.xlsx\n"
     ]
    }
   ],
   "source": [
    "pwd='AML@2023'\n",
    "\n",
    "with zf.ZipFile(zip_file, 'r') as zip_ref:\n",
    "    zip_ref.setpassword(pwd.encode('utf-8'))\n",
    "    zip_ref.extractall(INFILE)\n",
    "\n",
    "xls_file_name = zip_file_name.replace('zip','xlsx')\n",
    "print(f\"Extracting {xls_file_name}\")\n",
    "\n",
    "today_file = glob.glob(os.path.join(INFILE, xls_file_name))[0]\n",
    "print(f\"Running {today_file}\")"
   ]
  },
  {
   "cell_type": "code",
   "execution_count": 15,
   "id": "d72e4a6f",
   "metadata": {},
   "outputs": [
    {
     "name": "stdout",
     "output_type": "stream",
     "text": [
      "2023-12-18\n"
     ]
    }
   ],
   "source": [
    "import re\n",
    "\n",
    "as_at = re.findall(r'(\\d{8})\\.', today_file)[0]\n",
    "\n",
    "as_at_date = pd.to_datetime(as_at, format='%Y%m%d')\n",
    "as_at_db = as_at_date.strftime('%Y-%m-%d')\n",
    "\n",
    "print(as_at_db)"
   ]
  },
  {
   "cell_type": "code",
   "execution_count": 16,
   "id": "5dd9b490",
   "metadata": {},
   "outputs": [],
   "source": [
    "\n",
    "new_cols_names = {\n",
    "    'Business_Dt':'business_date',\n",
    "    'dcbrncategory':'branch_category',\n",
    "    'category_new':'channel',\n",
    "    'Source_Code_Channel':'channel_src_code',\n",
    "    'Source_Code_Branch':'branch_src_code',\n",
    "    'Special_Tagging':'special_tagging',\n",
    "    'SpecialTag':'special_tag',\n",
    "    'AmWINS_Ref_No':'ref_no',\n",
    "    'Agent_ID':'staff_id',\n",
    "    'Applied_Facility_Amount':'facility_amount',\n",
    "    'Applied_Net_Facility_Amount':'facility_amount_net',\n",
    "    'Current_Application_Status':'application_status',\n",
    "    'Reason':'reason',\n",
    "    'Date_created':'date_created',\n",
    "    'Disbursement_Date':'date_disbursed',\n",
    "    'Facility':'facility',\n",
    "    'Facility_Package':'facility_package',\n",
    "    'Pricing_Option':'pricing_option',\n",
    "    'Date_Applied':'date_applied',\n",
    "    'App_Month':'data_month',\n",
    "    'Category':'category',\n",
    "    'workflow_to_status':'workflow_to_status'}\n",
    "\n",
    "col_dt_type = {\n",
    "    'App_Month':str, \n",
    "    'Agent_ID':str}\n",
    "\n",
    "df = pd.read_excel(today_file, dtype=col_dt_type, sheet_name='Branches')\n",
    "df.rename(columns = new_cols_names, inplace=True)\n"
   ]
  },
  {
   "cell_type": "code",
   "execution_count": 17,
   "id": "58ff65b5",
   "metadata": {},
   "outputs": [
    {
     "name": "stdout",
     "output_type": "stream",
     "text": [
      "                              branch_src_code branch_code\n",
      "0                                B058 - KULIM         058\n",
      "1                              B206 - KEMAMAN         206\n",
      "2                               B104 - TAMPOI         104\n",
      "3                               B069 - SKUDAI         069\n",
      "4                                B058 - KULIM         058\n",
      "5         B039 - MELAKA - JLN MUNSHI ABDULLAH         039\n",
      "6                                B036 - KULAI         036\n",
      "7  B006 - AmBank - Melaka (TAMAN MELAKA RAYA)         006\n",
      "8                        B018 - AmBank - Muar         018\n",
      "9               B020 - AmBank - Seberang Jaya         020\n"
     ]
    }
   ],
   "source": [
    "df['fy'] = fy\n",
    "df['date_as_at'] = as_at_db\n",
    "\n",
    "# extract branch code\n",
    "df['branch_code'] = df['branch_src_code'].str[1:4]\n",
    "col_pr = ['branch_src_code','branch_code']\n",
    "print(df[col_pr].head(10))\n",
    "\n",
    "# fix month format\n",
    "data_month = df['data_month'].str[2:6]\n",
    "df['data_month'] = df['data_month'].str[2:6]\n",
    "\n",
    "# add product code\n",
    "df['prpt_code'] = 'AMNL'\n",
    "df['remarks'] = 'data_month is application_month'\n",
    "\n",
    "#print(df.head(3))\n"
   ]
  },
  {
   "cell_type": "code",
   "execution_count": 20,
   "id": "630fdbee",
   "metadata": {},
   "outputs": [
    {
     "name": "stdout",
     "output_type": "stream",
     "text": [
      "Table target: prdt_monitoring_new\n"
     ]
    }
   ],
   "source": [
    "from urllib.parse import quote  \n",
    "from sqlalchemy.engine import create_engine\n",
    "\n",
    "\n",
    "\n",
    "\n",
    "engine = create_engine('mysql+pymysql://rbpadmin:%s@10.12.215.45:3306/prpdb_prod' % quote('rbp0rt@l1'))\n",
    "\n",
    "tbl_target = \"prdt_monitoring_new\"\n",
    "\n",
    "print(f\"Table target: {tbl_target}\")"
   ]
  },
  {
   "cell_type": "code",
   "execution_count": 21,
   "id": "d9871bb8",
   "metadata": {},
   "outputs": [
    {
     "name": "stdout",
     "output_type": "stream",
     "text": [
      "0 rows in prdt_monitoring_new truncated\n"
     ]
    }
   ],
   "source": [
    "# truncate PRDT_monitoring\n",
    "\n",
    "from sqlalchemy import text\n",
    "\n",
    "with engine.begin() as connection:\n",
    "    result = connection.execute(f\"TRUNCATE {tbl_target}\")\n",
    "    affected_rows = result.rowcount\n",
    "    print(f\"{affected_rows} rows in {tbl_target} truncated\")"
   ]
  },
  {
   "cell_type": "code",
   "execution_count": 22,
   "id": "4a8c6172",
   "metadata": {},
   "outputs": [
    {
     "name": "stdout",
     "output_type": "stream",
     "text": [
      "successfully appended\n"
     ]
    }
   ],
   "source": [
    "try:\n",
    "    df.to_sql(tbl_target, con=engine, if_exists='append', index=False)\n",
    "    print('successfully appended')\n",
    "except OperationError as e:\n",
    "    print(\"OE: \", e)\n",
    "    print(\"Error Code: \", e.orig.args[0])"
   ]
  },
  {
   "cell_type": "code",
   "execution_count": 23,
   "id": "da2fdfc7",
   "metadata": {},
   "outputs": [],
   "source": [
    "# insert on duplicate update as-at date in PRDC\n",
    "\n",
    "from sqlalchemy.dialects.mysql import insert\n",
    "\n",
    "def insert_on_duplicate(table, conn, keys, data_iter):\n",
    "    insert_stmt = insert(table.table).values(list(data_iter))\n",
    "    on_duplicate_key_stmt = insert_stmt.on_duplicate_key_update(insert_stmt.inserted)\n",
    "    conn.execute(on_duplicate_key_stmt)\n",
    "\n",
    "# Initialize data to lists.\n",
    "prdc = [{\n",
    "    'data_type': 'DAY', \n",
    "    'data_month': data_month, \n",
    "    'code': 'AMNL', \n",
    "    'prrt_code': 'PRD_MON',\n",
    "    'as_at': as_at_db}]\n",
    " \n",
    "# Creates DataFrame.\n",
    "df_prdc = pd.DataFrame(prdc)\n",
    "df_prdc.to_sql('prdc_disclaimers', con=engine, if_exists='append', index=False, method=insert_on_duplicate)\n"
   ]
  },
  {
   "cell_type": "code",
   "execution_count": 24,
   "id": "d5ea8805",
   "metadata": {},
   "outputs": [
    {
     "name": "stdout",
     "output_type": "stream",
     "text": [
      "Retag 228->013...............................: 30 rows updated\n",
      "Update region................................: 4698 rows updated\n",
      "OTH region...................................: 38 rows updated\n",
      "updates completed\n"
     ]
    }
   ],
   "source": [
    "\n",
    "qry_name = [\"Retag 228->013\", \"Update region\", \"OTH region\"]\n",
    "\n",
    "queries = [\n",
    "    \n",
    "    # retag 228 - rugayah to 013 - rahmat \n",
    "    f\"\"\"UPDATE {tbl_target} \n",
    "        SET branch_code = '013',\n",
    "            branch_code_ori = 228\n",
    "        WHERE fy = '{fy}'\n",
    "            AND branch_code = 228\"\"\",\n",
    "    \n",
    "    # region_code\n",
    "    f\"\"\"UPDATE {tbl_target} d, bcus_unit_subunit c\n",
    "        SET d.region_code = bcus_bcut_code\n",
    "        WHERE fy = '{fy}'\n",
    "            AND d.branch_code = bcus_bcsb_code \n",
    "            AND bcus_month_start <= d.data_month\n",
    "            AND (bcus_month_end  IS NULL OR d.data_month <= bcus_month_end)\"\"\",\n",
    "    \n",
    "    # region_code = OTH\n",
    "    f\"\"\"UPDATE {tbl_target} d\n",
    "        SET region_code = 'OTH'\n",
    "        WHERE fy = '{fy}'\n",
    "            AND region_code IS NULL\"\"\"]\n",
    "\n",
    "idx = 0;\n",
    "with engine.begin() as connection:\n",
    "    \n",
    "    for i in range(len(queries)):\n",
    "        result = connection.execute(text(queries[i]))\n",
    "        affected_rows = result.rowcount\n",
    "        qry_txt = qry_name[i].ljust(45,\".\")\n",
    "        #print(f'\\n{text(queries[i])}')\n",
    "        print(f\"{qry_txt}: {affected_rows} rows updated\")\n",
    "    \n",
    "#     for qry in queries:\n",
    "#         result = connection.execute(text(qry))\n",
    "#         affected_rows = result.rowcount\n",
    "#         print(qry_name[idx++])\n",
    "#         print(f\"{affected_rows} rows updated\")\n",
    "\n",
    "print(\"updates completed\")"
   ]
  },
  {
   "cell_type": "markdown",
   "id": "fbdfa6f3",
   "metadata": {},
   "source": [
    "# Extract Excel"
   ]
  },
  {
   "cell_type": "code",
   "execution_count": 25,
   "id": "7b6e90aa",
   "metadata": {},
   "outputs": [
    {
     "name": "stdout",
     "output_type": "stream",
     "text": [
      "completed\n"
     ]
    }
   ],
   "source": [
    "from datetime import datetime\n",
    "\n",
    "mth = as_at_date.strftime('%y%m')\n",
    "\n",
    "with engine.connect() as conn:\n",
    "    \n",
    "    qry = f\"\"\"\n",
    "        SELECT COUNT(DISTINCT date_format(date_created,'%%d/%%m/%%Y')) days_occured\n",
    "        FROM prdt_monitoring_new\n",
    "        WHERE fy = '{fy}'\n",
    "            AND data_month = {mth}\"\"\"\n",
    "    rs = conn.execute(qry)\n",
    "    days_occured = rs.fetchone()[0]\n",
    "    \n",
    "    qry = f\"\"\"\n",
    "        SELECT MAX(DISTINCT date_format(date_created,'%%d'))*1 days_total\n",
    "        FROM prdt_monitoring_new\n",
    "        WHERE fy = '{fy}'\n",
    "            AND data_month = {mth}\"\"\"\n",
    "    rs = conn.execute(qry)\n",
    "    days_total = rs.fetchone()[0]\n",
    "    \n",
    "\n",
    "qry = f\"\"\"\n",
    "    SELECT data_month `Month`, \n",
    "        date_format(business_date,'%%b-%%y') month_abb, \n",
    "        region_code `Region Code`, \n",
    "        branch_code `Branch Code`, \n",
    "        bcsb_name `Branch Name`,\n",
    "        staff_id `Staff ID`, \n",
    "        bshr_name `Staff Name`,\n",
    "        bshr_position_name `Position`,\n",
    "        business_date `Business Date`, \n",
    "        ref_no `Case`, \n",
    "        facility_amount `Facility Amount`, \n",
    "        facility_amount_net `Net Facility Amount`, \n",
    "        application_status `Application Status`, category `Category`, \n",
    "        workflow_to_status `Workflow Status`\n",
    "    FROM prdt_monitoring_new\n",
    "        INNER JOIN bcsb_subunit ON branch_code = bcsb_code\n",
    "        LEFT JOIN bshr_hr_stafflisting ON (bshr_staff_id = staff_id AND data_month = bshr_month)\n",
    "    WHERE fy = '{fy}'\n",
    "    ORDER BY data_month\"\"\"\n",
    "\n",
    "df_data = pd.read_sql(qry, engine)\n",
    "\n",
    "qry = f\"\"\"\n",
    "    SELECT DISTINCT category\n",
    "    FROM prdt_monitoring_new\n",
    "    WHERE fy = '{fy}';\"\"\"\n",
    "\n",
    "df_cat = pd.read_sql(qry, engine)\n",
    "\n",
    "qry = f\"\"\"\n",
    "    SELECT data_month `Month`, \n",
    "        date_format(business_date,'%%b-%%y') month_abb, \n",
    "        region_code `Region Code`, \n",
    "        IFNULL(bshr_name,'-') `RD`,\n",
    "        COUNT(ref_no) `Case`, \n",
    "        SUM(facility_amount) `Facility Amount`, \n",
    "        category `Category`\n",
    "    FROM prdt_monitoring_new\n",
    "        LEFT JOIN bshr_hr_stafflisting ON \n",
    "            (region_code = bshr_bcut_code \n",
    "             AND bshr_bstp_tag = 'RD' \n",
    "             AND bshr_month IN (SELECT MAX(bshr_month) FROM bshr_hr_stafflisting))\n",
    "    WHERE fy = '{fy}'\n",
    "        AND region_code NOT IN ('OTH')\n",
    "    GROUP BY data_month, category, region_code\n",
    "    ORDER BY data_month, category, region_code\"\"\"\n",
    "df_region = pd.read_sql(qry, engine)\n",
    "\n",
    "\n",
    "qry = f\"\"\"\n",
    "    SELECT DISTINCT bcus_bcut_code `Region Code`, \n",
    "        IFNULL(bshr_name,'-') `RD`,\n",
    "        mtd_disbursed `MTD Disbursed`, \n",
    "        mtd_runrate `MTD Runrate`,\n",
    "        ytd_disbursed `YTD Disbursed`, \n",
    "        ytd_runrate `YTD Runrate`\n",
    "    FROM bcus_unit_subunit\n",
    "        LEFT JOIN (\n",
    "            SELECT fy, business_date, region_code, data_month,\n",
    "                SUM(facility_amount) mtd_disbursed, \n",
    "               (SUM(facility_amount)/{days_occured})*{days_total}  mtd_runrate\n",
    "            FROM prdt_monitoring_new\n",
    "            WHERE fy = '{fy}'\n",
    "\n",
    "                AND category LIKE 'Disbursed'\n",
    "                \n",
    "                AND data_month = {mth}\n",
    "            GROUP BY region_code) mtd\n",
    "        ON mtd.region_code = bcus_bcut_code\n",
    "\n",
    "        LEFT JOIN (\n",
    "            SELECT region_code, {mth} data_month,\n",
    "                SUM(facility_amount) ytd_disbursed, \n",
    "               (SUM(facility_amount)/{days_occured})*{days_total}  ytd_runrate\n",
    "            FROM prdt_monitoring_new\n",
    "            WHERE fy = '{fy}'\n",
    "                AND category = 'Disbursed'\n",
    "                AND data_month <= {mth}\n",
    "            GROUP BY region_code) ytd\n",
    "        ON ytd.region_code = bcus_bcut_code\n",
    "\n",
    "        LEFT JOIN bshr_hr_stafflisting \n",
    "            ON (bshr_bcut_code = bcus_bcut_code\n",
    "                AND bshr_bstp_tag = 'RD' \n",
    "                AND bshr_month IN (SELECT MAX(bshr_month) FROM bshr_hr_stafflisting WHERE bshr_month <= {mth}))\n",
    "    WHERE bcus_cmth_financial_year = '{fy}'\n",
    "       AND bcus_bcdp_code= 'DIST'\n",
    "       AND bcus_month_start <= {mth}\n",
    "       AND (bcus_month_end  IS NULL OR {mth} <= bcus_month_end)\n",
    "    ORDER BY bcus_bcut_code\"\"\"\n",
    "\n",
    "df_runrate = pd.read_sql(qry, engine)\n",
    "print('completed')"
   ]
  },
  {
   "cell_type": "code",
   "execution_count": 26,
   "id": "a931b211",
   "metadata": {},
   "outputs": [
    {
     "name": "stdout",
     "output_type": "stream",
     "text": [
      "  bcus_bcut_code                        rd\n",
      "0            ECR               LEE SZE WEI\n",
      "1            JHR             TAN HIANG TAK\n",
      "2            KV1           CHONG CHIUN YIH\n",
      "3            KV2             SOO WING HONG\n",
      "4            MNS  RABI'AH BINTI MOHD TAHIR\n",
      "5            PNG              LIM KOK BENG\n",
      "6            PRK              CHIN WAI TAI\n",
      "7            SBH       JOHN GUANG WEI MING\n",
      "8            SWK      SIMON SU HIONG TIING\n",
      "['Disbursed', 'Pending', 'Cancelled', 'Rejected']\n"
     ]
    }
   ],
   "source": [
    "qry = f\"\"\"\n",
    "SELECT DISTINCT bcus_bcut_code, bshr_name rd\n",
    "FROM bcus_unit_subunit\n",
    "    LEFT JOIN bshr_hr_stafflisting ON \n",
    "            (bcus_bcut_code = bshr_bcut_code \n",
    "                AND bshr_bstp_tag = 'RD' \n",
    "                AND bshr_month IN (SELECT MAX(bshr_month) FROM bshr_hr_stafflisting))\n",
    "WHERE bcus_cmth_financial_year = '{fy}'\n",
    "    AND bcus_bcdp_code= 'DIST'\n",
    "    AND bcus_month_start <= {mth}\n",
    "    AND (bcus_month_end  IS NULL OR {mth} <= bcus_month_end)\n",
    "\"\"\"\n",
    "df_all_regions = pd.read_sql(qry, engine)\n",
    "print(df_all_regions)\n",
    "\n",
    "ls_categories = ['Disbursed', 'Pending', 'Cancelled', 'Rejected']\n",
    "print(ls_categories)\n",
    "\n",
    "index = pd.MultiIndex.from_product([df_all_regions['bcus_bcut_code'], df_all_regions['rd'], ls_categories], names=['Region','RD','Status'])\n",
    "df_dummy = pd.DataFrame(0, index=index, columns=['Case','Facility Amount'])\n",
    "\n",
    "#print(df_dummy)\n",
    "#print(df_region)\n",
    "\n",
    "df_all = pd.concat([df_dummy, df_region], axis=0)\n",
    "#print(df_all)"
   ]
  },
  {
   "cell_type": "code",
   "execution_count": 28,
   "id": "dbaf8e1f",
   "metadata": {},
   "outputs": [
    {
     "name": "stdout",
     "output_type": "stream",
     "text": [
      "Runrate - completed\n",
      "Pipeline - completed\n",
      "MoM Region - completed\n",
      "Rejected - completed\n",
      "Disbursed - completed\n",
      "Cancelled - completed\n",
      "Pending - completed\n",
      "Data - completed\n",
      "Completed writing OUTFILE\\AmMoneyline Daily Monitoring Report as at 20231218.xlsx\n"
     ]
    }
   ],
   "source": [
    "from openpyxl import load_workbook\n",
    "\n",
    "#today_date = datetime.now()\n",
    "#formatted_date = today_date.strftime('%y%m%d')\n",
    "\n",
    "rpt_date = as_at_date.strftime('%Y%m%d')\n",
    "rpt_month = as_at_date.strftime('%d/%m/%Y')\n",
    "\n",
    "df_mth_map = df_region[['Month','month_abb']].drop_duplicates()\n",
    "dict_mth_map = dict(zip(df_mth_map['Month'], df_mth_map['month_abb']))\n",
    "\n",
    "file_name = f'AmMoneyline Daily Monitoring Report as at {rpt_date}.xlsx'\n",
    "file_working=os.path.join('OUTFILE', file_name)\n",
    "\n",
    "sort_categories = {'Disbursed':0, 'Pending':1, 'Cancelled':2, 'Rejected':3}\n",
    "\n",
    "with pd.ExcelWriter(file_working, engine='xlsxwriter') as excel_writer:\n",
    "\n",
    "    #-----------------------------------------------------------------------------\n",
    "    ws_name = 'Runrate'\n",
    "    \n",
    "    df_runrate.to_excel(excel_writer, sheet_name=ws_name, index=True, startrow=5)\n",
    "    print(f'{ws_name} - completed')\n",
    "    \n",
    "    \n",
    "    #-----------------------------------------------------------------------------\n",
    "    ws_name = 'Pipeline'\n",
    "    piv_region = pd.pivot_table(\n",
    "        df_region[df_region['Month'] == mth],\n",
    "        values = ['Case','Facility Amount'],\n",
    "        index = ['Region Code','RD'],\n",
    "        columns='Category',\n",
    "        aggfunc = {'Case':'sum', 'Facility Amount':'sum'},\n",
    "        fill_value=0,\n",
    "        margins=True,\n",
    "        margins_name='Total')\n",
    "    \n",
    "    piv_region.to_excel(excel_writer, sheet_name=ws_name, index=True, startrow=2)\n",
    "    print(f'{ws_name} - completed')\n",
    "    \n",
    "    \n",
    "    #-----------------------------------------------------------------------------\n",
    "    ws_name = 'MoM Region'\n",
    "    piv_region = pd.pivot_table(\n",
    "        df_region,\n",
    "        values = ['Case','Facility Amount'],\n",
    "        index = ['Category','Region Code'],\n",
    "        columns='Month',\n",
    "        aggfunc = {'Case':'sum', 'Facility Amount':'sum'},\n",
    "        fill_value=0,\n",
    "        margins=True,\n",
    "        margins_name='Total')\n",
    "    piv_region.rename(columns=dict_mth_map, inplace=True)\n",
    "    piv_region.to_excel(excel_writer, sheet_name=ws_name, index=True, startrow=2)\n",
    "    print(f'{ws_name} - completed')\n",
    "    \n",
    "    \n",
    "    #-----------------------------------------------------------------------------\n",
    "    for cat in df_cat['category']:\n",
    "        ws_name = f'MoM Branch-{cat}'\n",
    "        piv_cat = pd.pivot_table(\n",
    "            df_data[(df_data['Category'] == cat)],\n",
    "            values = ['Case','Facility Amount'],\n",
    "            index = ['Region Code','Branch Code','Branch Name'],\n",
    "            columns='Month',\n",
    "            aggfunc = {'Case':'count', 'Facility Amount':'sum'},\n",
    "            fill_value=0,\n",
    "            margins=True,\n",
    "            margins_name='Total')\n",
    "        piv_cat.rename(columns=dict_mth_map, inplace=True)\n",
    "        piv_cat.to_excel(excel_writer, sheet_name=ws_name, index=True, startrow=2)\n",
    "        print(f'{cat} - completed')\n",
    "    \n",
    "    #-----------------------------------------------------------------------------\n",
    "    ws_name = 'Data'\n",
    "    df_data.to_excel(excel_writer, sheet_name=ws_name, index=True, startrow=0)\n",
    "    print(f'{ws_name} - completed')\n",
    "\n",
    "wb = load_workbook(file_working)\n",
    "\n",
    "ws = wb['Runrate']\n",
    "ws['A1'] = 'Disbursement'  \n",
    "ws['A2'] = f'Runrate as at {rpt_month}'  \n",
    "\n",
    "ws['A3'] = 'No. of transaction days '  \n",
    "ws['B3'] = days_occured  \n",
    "\n",
    "ws['A4'] = 'No. of total days'   \n",
    "ws['B4'] = days_total \n",
    "\n",
    "ws = wb['Pipeline']\n",
    "ws['A1'] = 'Submission' \n",
    "ws['A2'] = f'Runrate as at {rpt_month}'    \n",
    "\n",
    "wb.save(file_working)\n",
    "\n",
    "print(f'Completed writing {file_working}')"
   ]
  },
  {
   "cell_type": "code",
   "execution_count": 29,
   "id": "5b053697",
   "metadata": {},
   "outputs": [
    {
     "name": "stdout",
     "output_type": "stream",
     "text": [
      "OUTFILE\\AmMoneyline Daily Monitoring Report as at 20231218.xlsx is opened.\n"
     ]
    }
   ],
   "source": [
    "# open generated report & run formating macro\n",
    "\n",
    "import subprocess\n",
    "\n",
    "try:\n",
    "    subprocess.Popen(['start', 'excel', file_working], shell=True)\n",
    "    print(f'{file_working} is opened.')\n",
    "except FileNotFoundError:\n",
    "    print(f'{file_working} was not found.')\n",
    "except Exception as e:\n",
    "    print(f'Error: {e}')"
   ]
  },
  {
   "cell_type": "code",
   "execution_count": 30,
   "id": "194b34fd",
   "metadata": {},
   "outputs": [
    {
     "data": {
      "text/plain": [
       "'\\\\\\\\ambankgroup.ahb.com\\\\GFS\\\\DPM-Performance Management\\\\Historical Data\\\\PRP-DM Output\\\\Reports\\\\Daily AmMoneyline Monitoring\\\\AmMoneyline Daily Monitoring Report as at 20231218.xlsx'"
      ]
     },
     "execution_count": 30,
     "metadata": {},
     "output_type": "execute_result"
    }
   ],
   "source": [
    "#copy formatted xls to end-users' report folder\n",
    "\n",
    "import shutil\n",
    "\n",
    "REPORT_FOLDER = r'\\\\ambankgroup.ahb.com\\GFS\\DPM-Performance Management\\Historical Data\\PRP-DM Output\\Reports\\Daily AmMoneyline Monitoring'\n",
    "#REPORT_FOLDER = r'C:\\Users\\10033084B\\Documents\\prp-python\\daily\\AMNL_Monitoring\\OUTFILE\\TGT_RPT'\n",
    "\n",
    "file_report=os.path.join(REPORT_FOLDER, file_name)\n",
    "\n",
    "shutil.copy(file_working, file_report)"
   ]
  },
  {
   "cell_type": "code",
   "execution_count": 31,
   "id": "bf15b4b9",
   "metadata": {},
   "outputs": [
    {
     "name": "stdout",
     "output_type": "stream",
     "text": [
      "OUTFILE\\AmMoneyline Daily Monitoring Report as at 20231218.xlsx is opened.\n"
     ]
    }
   ],
   "source": [
    "#open copied formatted xls from end-users' report folder - for checking\n",
    "#close working file first!\n",
    "\n",
    "try:\n",
    "    subprocess.Popen(['start', 'excel', file_report], shell=True)\n",
    "    print(f'{file_working} is opened.')\n",
    "except FileNotFoundError:\n",
    "    print(f'{file_working} was not found.')\n",
    "except Exception as e:\n",
    "    print(f'Error: {e}')"
   ]
  },
  {
   "cell_type": "markdown",
   "id": "30d8d4d7",
   "metadata": {},
   "source": [
    "# PRDS - WIP\n",
    "## RR"
   ]
  },
  {
   "cell_type": "code",
   "execution_count": null,
   "id": "43ebdc7c",
   "metadata": {},
   "outputs": [],
   "source": [
    "#config target\n",
    "\n",
    "from sqlalchemy import text\n"
   ]
  },
  {
   "cell_type": "code",
   "execution_count": null,
   "id": "98db5e0c",
   "metadata": {},
   "outputs": [],
   "source": [
    "from sqlalchemy import text\n",
    "print(mth)\n",
    "\n",
    "\n",
    "tbl_target = 'prds_daily_summary'\n",
    "with engine.begin() as connection:\n",
    "    result = connection.execute(f\"DELETE FROM {tbl_target} WHERE data_month = {mth} AND report_code = 'AML_RR'\")\n",
    "    affected_rows = result.rowcount\n",
    "    print(f\"{affected_rows} rows in {tbl_target} deleted\")\n",
    "    \n",
    "cols = ['MTD Disbursed','MTD Runrate','YTD Disbursed','YTD Runrate','Monthly Target','MTD Target']\n",
    "keys = ['MTD_DIS','MTD_RR','YTD_DIS','YTD_RR','MTH_TGT','MTD_TGT']\n",
    "\n",
    "keys_dict = {\n",
    "    'MTD_DIS': 'MTD Disbursed',\n",
    "    'MTD_RR': 'MTD Runrate',\n",
    "    'YTD_DIS': 'YTD Disbursed',\n",
    "    'YTD_RR': 'YTD Runrate',\n",
    "}\n",
    "\n",
    "for k, col in keys_dict.items():\n",
    "    print('\\n')\n",
    "    print(k)\n",
    "    cols = ['Region Code', col]\n",
    "    df_prds = df_runrate[cols]\n",
    "\n",
    "    df_prds['data_month'] = mth\n",
    "    df_prds['report_code'] = 'AML_RR'\n",
    "    \n",
    "    df_prds = df_prds.rename(\n",
    "        columns={\n",
    "            'Region Code': 'data_key', \n",
    "            col: 'data_val'})\n",
    "    \n",
    "    df_prds['data_key'] = df_prds['data_key'].astype(str) + f'_{k}'\n",
    "    \n",
    "    print(df_prds)\n",
    "    \n",
    "    try:\n",
    "        df_prds.to_sql(tbl_target, con=engine, if_exists='append', index=False)\n",
    "        print('successfully appended')\n",
    "    except OperationError as e:\n",
    "        print(\"OE: \", e)\n",
    "        print(\"Error Code: \", e.orig.args[0])\n",
    "\n",
    "\n",
    "tgt_dict = {\n",
    "    'ECR': '650000',\n",
    "    'JHR': '2000000',\n",
    "    'KV1': '2000000',\n",
    "    'KV2': '2000000',\n",
    "    'MNS': '2000000',\n",
    "    'PNG': '500000',\n",
    "    'PRK': '1900000',\n",
    "    'SBH': '550000',\n",
    "    'SWK': '800000'\n",
    "}\n",
    "\n",
    "df_tgt = pd.DataFrame(columns=['data_month', 'report_code', 'data_key', 'data_val'])\n",
    "\n",
    "new_row = {\n",
    "    'data_month': mth, \n",
    "    'report_code': 'AML_RR', \n",
    "    'data_key': 'DAY_TOTAL', \n",
    "    'data_val': days_total}\n",
    "df_tgt = df_tgt.append(new_row, ignore_index=True)\n",
    "\n",
    "new_row = {\n",
    "    'data_month': mth, \n",
    "    'report_code': 'AML_RR', \n",
    "    'data_key': 'DAY_OCCUR', \n",
    "    'data_val': days_occured}\n",
    "df_tgt = df_tgt.append(new_row, ignore_index=True)\n",
    "\n",
    "for rg, tgt in tgt_dict.items():\n",
    "    \n",
    "    new_row = {\n",
    "        'data_month': mth, \n",
    "        'report_code': 'AML_RR', \n",
    "        'data_key': rg + '_MTH_TGT', \n",
    "        'data_val': tgt}\n",
    "    df_tgt = df_tgt.append(new_row, ignore_index=True)\n",
    "    \n",
    "    mtd_tgt = (float(tgt)/float(days_total))*float(days_occured)\n",
    "    new_row = {\n",
    "        'data_month': mth, \n",
    "        'report_code': 'AML_RR', \n",
    "        'data_key': rg + '_MTD_TGT', \n",
    "        'data_val': mtd_tgt}\n",
    "    df_tgt = df_tgt.append(new_row, ignore_index=True)\n",
    "    \n",
    "print(df_tgt)\n",
    "\n",
    "\n",
    "try:\n",
    "    df_tgt.to_sql(tbl_target, con=engine, if_exists='append', index=False)\n",
    "    print('successfully appended')\n",
    "except OperationError as e:\n",
    "    print(\"OE: \", e)\n",
    "    print(\"Error Code: \", e.orig.args[0])\n"
   ]
  },
  {
   "cell_type": "markdown",
   "id": "f6a89034",
   "metadata": {},
   "source": [
    "## PL"
   ]
  },
  {
   "cell_type": "code",
   "execution_count": null,
   "id": "03bd8bfc",
   "metadata": {},
   "outputs": [],
   "source": []
  }
 ],
 "metadata": {
  "kernelspec": {
   "display_name": "Python 3 (ipykernel)",
   "language": "python",
   "name": "python3"
  },
  "language_info": {
   "codemirror_mode": {
    "name": "ipython",
    "version": 3
   },
   "file_extension": ".py",
   "mimetype": "text/x-python",
   "name": "python",
   "nbconvert_exporter": "python",
   "pygments_lexer": "ipython3",
   "version": "3.9.13"
  }
 },
 "nbformat": 4,
 "nbformat_minor": 5
}
